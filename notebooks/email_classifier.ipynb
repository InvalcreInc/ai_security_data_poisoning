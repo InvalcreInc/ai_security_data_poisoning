{
 "cells": [
  {
   "cell_type": "markdown",
   "metadata": {},
   "source": [
    "> [English Version](../docs/chapter02_email_classifier.md)\n"
   ]
  },
  {
   "cell_type": "markdown",
   "metadata": {},
   "source": [
    "> @author g.mano"
   ]
  },
  {
   "cell_type": "markdown",
   "metadata": {},
   "source": [
    "# Классификатор Спама\n",
    "\n",
    "Прежде чем применить техники отравления данных, необходимо сначала создать рабочую модель. В этом разделе мы объясним, как построить эту модель, которая послужит основой для экспериментов с отравлением данных.\n",
    "\n",
    "Хотя начальный набор данных, используемый в этом примере, — это `spam_ham_dataset.csv`, этот подход гибкий. Вы можете создать отравленные наборы данных, переобучить модель и протестировать ее уязвимость, просто изменив имя файла на новое, указывающее на отравленный набор данных. Это позволяет проверять производительность модели при различных условиях, включая атаки, такие как изменение меток или целенаправленное отравление.\n",
    "\n",
    "Давайте начнем!"
   ]
  },
  {
   "cell_type": "markdown",
   "metadata": {},
   "source": [
    "## 1. Загрузка данных\n",
    "\n",
    "На первом этапе мы подготавливаем окружение для загрузки данных. Это включает в себя импорт необходимых библиотек и загрузку набора данных из указанного файла."
   ]
  },
  {
   "cell_type": "code",
   "execution_count": 49,
   "metadata": {},
   "outputs": [],
   "source": [
    "%matplotlib inline\n",
    "import pandas as pd\n",
    "import numpy as np\n",
    "import matplotlib.pyplot as plt"
   ]
  },
  {
   "cell_type": "markdown",
   "metadata": {},
   "source": [
    "Модуль `os` важен, поскольку мы будем работать с локальными скриптами для обработки и очистки данных. Имена файлов наборов данных задаются как переменные, и мы загружаем набор данных в зависимости от выбранного имени файла."
   ]
  },
  {
   "cell_type": "code",
   "execution_count": 50,
   "metadata": {},
   "outputs": [],
   "source": [
    "import sys\n",
    "import os\n",
    "\n",
    "# Add the parent directory to sys.path\n",
    "sys.path.append(os.path.abspath(os.path.join('..')))"
   ]
  },
  {
   "cell_type": "markdown",
   "metadata": {},
   "source": [
    "Чтобы загрузить нужный набор данных, просто раскомментируйте строку, соответствующую нужному файлу:\n",
    "\n",
    "- `spam_ham_dataset.csv` — для исходного набора данных\n",
    "- `spam_ham_dataset_targeted.csv` — для целенаправленного отравленного набора данных\n",
    "- `spam_ham_dataset_poisoned.csv` — для набора данных с отравлением\n",
    "\n",
    "После этого набор данных будет загружен, очищен и подготовлен для обучения модели."
   ]
  },
  {
   "cell_type": "code",
   "execution_count": 51,
   "metadata": {},
   "outputs": [
    {
     "data": {
      "text/html": [
       "<div>\n",
       "<style scoped>\n",
       "    .dataframe tbody tr th:only-of-type {\n",
       "        vertical-align: middle;\n",
       "    }\n",
       "\n",
       "    .dataframe tbody tr th {\n",
       "        vertical-align: top;\n",
       "    }\n",
       "\n",
       "    .dataframe thead th {\n",
       "        text-align: right;\n",
       "    }\n",
       "</style>\n",
       "<table border=\"1\" class=\"dataframe\">\n",
       "  <thead>\n",
       "    <tr style=\"text-align: right;\">\n",
       "      <th></th>\n",
       "      <th>Unnamed: 0</th>\n",
       "      <th>label</th>\n",
       "      <th>text</th>\n",
       "      <th>label_num</th>\n",
       "    </tr>\n",
       "  </thead>\n",
       "  <tbody>\n",
       "    <tr>\n",
       "      <th>0</th>\n",
       "      <td>2996</td>\n",
       "      <td>spam</td>\n",
       "      <td>Subject: enron actuals for april 4 , 2001\\r\\ne...</td>\n",
       "      <td>1</td>\n",
       "    </tr>\n",
       "    <tr>\n",
       "      <th>1</th>\n",
       "      <td>2714</td>\n",
       "      <td>spam</td>\n",
       "      <td>Subject: new contact for devon\\r\\nplease note ...</td>\n",
       "      <td>1</td>\n",
       "    </tr>\n",
       "    <tr>\n",
       "      <th>2</th>\n",
       "      <td>1361</td>\n",
       "      <td>spam</td>\n",
       "      <td>Subject: revised noms - gathering contracts\\r\\...</td>\n",
       "      <td>1</td>\n",
       "    </tr>\n",
       "    <tr>\n",
       "      <th>3</th>\n",
       "      <td>1866</td>\n",
       "      <td>spam</td>\n",
       "      <td>Subject: revised : eastrans nomination change ...</td>\n",
       "      <td>1</td>\n",
       "    </tr>\n",
       "    <tr>\n",
       "      <th>4</th>\n",
       "      <td>333</td>\n",
       "      <td>spam</td>\n",
       "      <td>Subject: cilco pathing - withdrawl and hplc tr...</td>\n",
       "      <td>1</td>\n",
       "    </tr>\n",
       "  </tbody>\n",
       "</table>\n",
       "</div>"
      ],
      "text/plain": [
       "   Unnamed: 0 label                                               text  \\\n",
       "0        2996  spam  Subject: enron actuals for april 4 , 2001\\r\\ne...   \n",
       "1        2714  spam  Subject: new contact for devon\\r\\nplease note ...   \n",
       "2        1361  spam  Subject: revised noms - gathering contracts\\r\\...   \n",
       "3        1866  spam  Subject: revised : eastrans nomination change ...   \n",
       "4         333  spam  Subject: cilco pathing - withdrawl and hplc tr...   \n",
       "\n",
       "   label_num  \n",
       "0          1  \n",
       "1          1  \n",
       "2          1  \n",
       "3          1  \n",
       "4          1  "
      ]
     },
     "execution_count": 51,
     "metadata": {},
     "output_type": "execute_result"
    }
   ],
   "source": [
    "from modules.load_dataset import load_dataset\n",
    "#filename='spam_ham_dataset.csv'\n",
    "#filename='spam_ham_dataset_targeted.csv' \n",
    "filename='spam_ham_dataset_poisoned.csv'\n",
    "\n",
    "spambase=load_dataset(filename)\n",
    "spambase.head()"
   ]
  },
  {
   "cell_type": "markdown",
   "metadata": {},
   "source": [
    "## 2. Анализ данных\n",
    "Перед тем как начать обработку данных, нужно получить представление о его структуре. Важной частью этого процесса является анализ распределения меток — сколько в наборе данных писем `spam`, а сколько — `ham` (не спам).\n",
    "\n",
    "На этом этапе мы генерируем круговую диаграмму, чтобы визуализировать пропорцию `spam` и `ham` писем. Это поможет понять, если данные несбалансированы, что важно, поскольку несбалансированные наборы данных могут отрицательно сказаться на способности модели обобщать новые данные.\n",
    "\n",
    "Например, если в наборе данных значительно больше писем `ham`, чем `spam`, возможно, потребуется применить такие техники, как перераспределение данных (например, увеличение меньшинства через oversampling или уменьшение большинства через undersampling)."
   ]
  },
  {
   "cell_type": "code",
   "execution_count": 52,
   "metadata": {},
   "outputs": [
    {
     "data": {
      "image/png": "[encoded data removed]",
      "text/plain": [
       "<Figure size 640x480 with 1 Axes>"
      ]
     },
     "metadata": {},
     "output_type": "display_data"
    }
   ],
   "source": [
    "plt.pie(spambase['label_num'].value_counts(),labels=['not spam','spam'], autopct='%1.1f%%')\n",
    "plt.title('Spam vs not spam')\n",
    "plt.legend()\n",
    "plt.show()"
   ]
  },
  {
   "cell_type": "markdown",
   "metadata": {},
   "source": [
    "## 3. Обработка данных\n",
    "\n",
    "Обработка данных — это критически важный шаг для подготовки набора данных к обучению. Он включает несколько этапов, чтобы гарантировать, что данные очищены и находятся в подходящем формате для машинного обучения."
   ]
  },
  {
   "cell_type": "markdown",
   "metadata": {},
   "source": [
    "### - Проверка на отсутствие данных\n",
    "\n",
    "Первым шагом является проверка на наличие пропущенных или пустых значений в наборе данных. Пропущенные данные могут привести к некорректным предсказаниям, поэтому их нужно обработать соответствующим образом. Если пропущенные значения найдены, их можно либо удалить, либо заменить на запасные значения (в зависимости от ситуации)."
   ]
  },
  {
   "cell_type": "code",
   "execution_count": 53,
   "metadata": {},
   "outputs": [
    {
     "data": {
      "text/plain": [
       "Unnamed: 0    0\n",
       "label         0\n",
       "text          0\n",
       "label_num     0\n",
       "dtype: int64"
      ]
     },
     "execution_count": 53,
     "metadata": {},
     "output_type": "execute_result"
    }
   ],
   "source": [
    "spambase.isna().sum()"
   ]
  },
  {
   "cell_type": "markdown",
   "metadata": {},
   "source": [
    "### - Очистка данных\n",
    "\n",
    "Следующим шагом является очистка текстовых данных. Для этого был создан специальный класс `CleanText`, который выполняет следующие операции с текстовыми данными:\n",
    "\n",
    "- **Удаление стоп-слов**: Слово \"the\", \"and\", \"is\" и другие, которые не несут полезной информации для задачи классификации.\n",
    "- **Удаление знаков препинания и специальных символов**: Текст часто содержит ненужные знаки препинания, которые удаляются для очищения данных.\n",
    "- **Удаление пустых или неверных записей**: Все пустые или неактуальные записи удаляются.\n",
    "\n",
    "Однако **ссылки не удаляются**, поскольку они могут содержать важную информацию (например, ссылки на фишинговые сайты или другие индикаторы спама), что может улучшить производительность модели."
   ]
  },
  {
   "cell_type": "code",
   "execution_count": 54,
   "metadata": {},
   "outputs": [
    {
     "data": {
      "text/html": [
       "<div>\n",
       "<style scoped>\n",
       "    .dataframe tbody tr th:only-of-type {\n",
       "        vertical-align: middle;\n",
       "    }\n",
       "\n",
       "    .dataframe tbody tr th {\n",
       "        vertical-align: top;\n",
       "    }\n",
       "\n",
       "    .dataframe thead th {\n",
       "        text-align: right;\n",
       "    }\n",
       "</style>\n",
       "<table border=\"1\" class=\"dataframe\">\n",
       "  <thead>\n",
       "    <tr style=\"text-align: right;\">\n",
       "      <th></th>\n",
       "      <th>Unnamed: 0</th>\n",
       "      <th>label</th>\n",
       "      <th>text</th>\n",
       "      <th>label_num</th>\n",
       "      <th>text_cleaned</th>\n",
       "    </tr>\n",
       "  </thead>\n",
       "  <tbody>\n",
       "    <tr>\n",
       "      <th>0</th>\n",
       "      <td>2996</td>\n",
       "      <td>spam</td>\n",
       "      <td>Subject: enron actuals for april 4 , 2001\\r\\ne...</td>\n",
       "      <td>1</td>\n",
       "      <td>subject enron actuals april 4 , 2001 estimated...</td>\n",
       "    </tr>\n",
       "    <tr>\n",
       "      <th>1</th>\n",
       "      <td>2714</td>\n",
       "      <td>spam</td>\n",
       "      <td>Subject: new contact for devon\\r\\nplease note ...</td>\n",
       "      <td>1</td>\n",
       "      <td>subject new contact devon please note leaving ...</td>\n",
       "    </tr>\n",
       "    <tr>\n",
       "      <th>2</th>\n",
       "      <td>1361</td>\n",
       "      <td>spam</td>\n",
       "      <td>Subject: revised noms - gathering contracts\\r\\...</td>\n",
       "      <td>1</td>\n",
       "      <td>subject revised noms gathering contracts dave ...</td>\n",
       "    </tr>\n",
       "    <tr>\n",
       "      <th>3</th>\n",
       "      <td>1866</td>\n",
       "      <td>spam</td>\n",
       "      <td>Subject: revised : eastrans nomination change ...</td>\n",
       "      <td>1</td>\n",
       "      <td>subject revised eastrans nomination change eff...</td>\n",
       "    </tr>\n",
       "    <tr>\n",
       "      <th>4</th>\n",
       "      <td>333</td>\n",
       "      <td>spam</td>\n",
       "      <td>Subject: cilco pathing - withdrawl and hplc tr...</td>\n",
       "      <td>1</td>\n",
       "      <td>subject cilco pathing withdrawl hplc transport...</td>\n",
       "    </tr>\n",
       "  </tbody>\n",
       "</table>\n",
       "</div>"
      ],
      "text/plain": [
       "   Unnamed: 0 label                                               text  \\\n",
       "0        2996  spam  Subject: enron actuals for april 4 , 2001\\r\\ne...   \n",
       "1        2714  spam  Subject: new contact for devon\\r\\nplease note ...   \n",
       "2        1361  spam  Subject: revised noms - gathering contracts\\r\\...   \n",
       "3        1866  spam  Subject: revised : eastrans nomination change ...   \n",
       "4         333  spam  Subject: cilco pathing - withdrawl and hplc tr...   \n",
       "\n",
       "   label_num                                       text_cleaned  \n",
       "0          1  subject enron actuals april 4 , 2001 estimated...  \n",
       "1          1  subject new contact devon please note leaving ...  \n",
       "2          1  subject revised noms gathering contracts dave ...  \n",
       "3          1  subject revised eastrans nomination change eff...  \n",
       "4          1  subject cilco pathing withdrawl hplc transport...  "
      ]
     },
     "execution_count": 54,
     "metadata": {},
     "output_type": "execute_result"
    }
   ],
   "source": [
    "from modules.clean_text import CleanText\n",
    "\n",
    "cleaner = CleanText()\n",
    "spambase[\"text_cleaned\"] = spambase[\"text\"].apply(cleaner.on_clean)\n",
    "spambase.head()"
   ]
  },
  {
   "cell_type": "markdown",
   "metadata": {},
   "source": [
    "## 4. Выбор признаков\n",
    "\n",
    "После того как данные были очищены и обработаны, следующим шагом будет выбор признаков. Выбор признаков — это процесс определения наиболее значимых признаков (в нашем случае, слов или n-грамм), которые модель будет использовать для предсказания.\n",
    "\n",
    "Для текстовых данных признаки обычно представляют собой слова или последовательности слов, которые часто встречаются в спамовых и не-спамовых письмах. Мы выбираем подмножество наиболее информативных признаков, что помогает улучшить производительность модели и уменьшить вычислительную сложность."
   ]
  },
  {
   "cell_type": "code",
   "execution_count": 55,
   "metadata": {},
   "outputs": [
    {
     "data": {
      "text/plain": [
       "label\n",
       "0    3827\n",
       "1    1861\n",
       "Name: count, dtype: int64"
      ]
     },
     "execution_count": 55,
     "metadata": {},
     "output_type": "execute_result"
    }
   ],
   "source": [
    "from sklearn.model_selection import train_test_split\n",
    "X= spambase['text_cleaned']\n",
    "y =spambase['label'].map({'ham':0,'spam':1})\n",
    "X_train,X_test,y_train,y_test=train_test_split(X,y,test_size=0.2)\n",
    "y.value_counts()"
   ]
  },
  {
   "cell_type": "markdown",
   "metadata": {},
   "source": [
    "## 5. Векторизация\n",
    "\n",
    "Модели машинного обучения требуют числовых данных для предсказания, однако текстовые данные по своей природе нечисловые. Поэтому нам нужно преобразовать текст в числовой формат с помощью **векторизации**.\n",
    "\n",
    "На этом этапе мы используем метод **TF-IDF (Term Frequency-Inverse Document Frequency)** для векторизации. Этот метод преобразует текстовые данные в числовые векторы, учитывая как частоту слов в документе, так и то, насколько часто эти слова встречаются во всем наборе данных.\n",
    "\n",
    "Метод **TF-IDF** позволяет взвешивать слова, которые часто встречаются в документе, но редки в других документах, делая их более важными, что помогает модели сосредоточиться на словах, которые скорее всего помогут различить спам от не-спама."
   ]
  },
  {
   "cell_type": "code",
   "execution_count": 56,
   "metadata": {},
   "outputs": [],
   "source": [
    "from sklearn.feature_extraction.text import TfidfVectorizer\n",
    "vectorizer = TfidfVectorizer(max_features=6000)\n",
    "X_train_tfidf = vectorizer.fit_transform(X_train)\n",
    "X_test_tfidf = vectorizer.transform(X_test)"
   ]
  },
  {
   "cell_type": "markdown",
   "metadata": {},
   "source": [
    "## 6. Обучение модели\n",
    "\n",
    "Теперь, когда данные очищены, обработаны и векторизованы, можно приступать к обучению моделей машинного обучения. В этом разделе мы экспериментируем с двумя моделями: **Multinomial Naive Bayes (MultinomialNB)** и **Logistic Regression**."
   ]
  },
  {
   "cell_type": "markdown",
   "metadata": {},
   "source": [
    "### - MultinomialNB\n",
    "\n",
    "**Multinomial Naive Bayes** — это широко используемый алгоритм для задач классификации текста, особенно когда признаками являются частоты слов. Он основан на теореме Байеса и предполагает, что признаки (слова) условно независимы, если известно значение метки класса. Это делает его простым, но эффективным вариантом для классификации спама.\n",
    "\n",
    "Мы начинаем с **MultinomialNB** как базовой модели, так как она быстро работает и хорошо подходит для обработки больших текстовых наборов данных."
   ]
  },
  {
   "cell_type": "code",
   "execution_count": 57,
   "metadata": {},
   "outputs": [
    {
     "name": "stdout",
     "output_type": "stream",
     "text": [
      "Accuracy: 0.8602811950790861\n",
      "Report:               precision    recall  f1-score   support\n",
      "\n",
      "           0       0.89      0.91      0.90       778\n",
      "           1       0.79      0.76      0.77       360\n",
      "\n",
      "    accuracy                           0.86      1138\n",
      "   macro avg       0.84      0.83      0.84      1138\n",
      "weighted avg       0.86      0.86      0.86      1138\n",
      "\n"
     ]
    }
   ],
   "source": [
    "from sklearn.naive_bayes import MultinomialNB\n",
    "from sklearn.metrics import accuracy_score, confusion_matrix, ConfusionMatrixDisplay, classification_report\n",
    "model = MultinomialNB()\n",
    "model.fit(X_train_tfidf, y_train)\n",
    "y_pred = model.predict(X_test_tfidf)\n",
    "print('Accuracy:', accuracy_score(y_test, y_pred))\n",
    "print('Report:', classification_report(y_test, y_pred))"
   ]
  },
  {
   "cell_type": "code",
   "execution_count": 58,
   "metadata": {},
   "outputs": [
    {
     "data": {
      "image/png": "[encoded data removed]",
      "text/plain": [
       "<Figure size 640x480 with 2 Axes>"
      ]
     },
     "metadata": {},
     "output_type": "display_data"
    }
   ],
   "source": [
    "cm = confusion_matrix(y_test, y_pred)\n",
    "disp = ConfusionMatrixDisplay(\n",
    "    confusion_matrix=cm, display_labels=model.classes_)\n",
    "disp.plot(cmap=plt.cm.Blues)\n",
    "plt.show()"
   ]
  },
  {
   "cell_type": "markdown",
   "metadata": {},
   "source": [
    "### - Logistic Regression\n",
    "\n",
    "**Logistic Regression** — это еще один популярный алгоритм классификации. Хотя она в первую очередь используется для бинарной классификации, она также работает эффективно для классификации текста. Логистическая регрессия моделирует вероятность принадлежности к классу (спам или не спам), используя линейную зависимость между признаками и целевой переменной.\n",
    "\n",
    "После того как обе модели будут обучены, мы сравним их результаты, используя такие метрики, как точность, полнота, точность (precision) и F1-мера. Это сравнение поможет нам понять, какая модель лучше подходит для задачи классификации спама."
   ]
  },
  {
   "cell_type": "code",
   "execution_count": 59,
   "metadata": {},
   "outputs": [
    {
     "name": "stdout",
     "output_type": "stream",
     "text": [
      "Accuracy with Logistic Regression: 0.8647\n",
      "Classification Report with Logistic Regression:\n",
      "              precision    recall  f1-score   support\n",
      "\n",
      "           0       0.92      0.88      0.90       778\n",
      "           1       0.77      0.82      0.79       360\n",
      "\n",
      "    accuracy                           0.86      1138\n",
      "   macro avg       0.84      0.85      0.85      1138\n",
      "weighted avg       0.87      0.86      0.87      1138\n",
      "\n"
     ]
    }
   ],
   "source": [
    "from sklearn.linear_model import LogisticRegression\n",
    "\n",
    "lr_classifier = LogisticRegression(class_weight='balanced', random_state=42)\n",
    "lr_classifier.fit(X_train_tfidf, y_train)\n",
    "y_pred_lr = lr_classifier.predict(X_test_tfidf)\n",
    "\n",
    "# Evaluate the model\n",
    "print(\n",
    "    f\"Accuracy with Logistic Regression: {accuracy_score(y_test, y_pred_lr):.4f}\")\n",
    "print(\"Classification Report with Logistic Regression:\")\n",
    "print(classification_report(y_test, y_pred_lr))"
   ]
  },
  {
   "cell_type": "markdown",
   "metadata": {},
   "source": [
    "## 7. Сохранение модели\n",
    "\n",
    "После того как модель обучена и оценена, мы сохраняем как модель, так и векторизатор на диск для последующего использования. Сохранение обученной модели позволяет легко загружать ее в дальнейшем без необходимости повторного обучения."
   ]
  },
  {
   "cell_type": "code",
   "execution_count": 60,
   "metadata": {},
   "outputs": [],
   "source": [
    "import pickle\n",
    "\n",
    "# Save the model to a file\n",
    "file_name=filename.split('.')[0]\n",
    "pickle.dump(model,open(f'../reports/{file_name}_classifier.pkl' , 'wb'))\n",
    "pickle.dump(vectorizer, open(\n",
    "    f'../reports/{file_name}_vectorizer.pkl', 'wb'))"
   ]
  },
  {
   "cell_type": "markdown",
   "metadata": {},
   "source": [
    "Для удобства идентификации моделей в будущем мы используем дескриптивные имена файлов, которые отражают тип модели и используемый набор данных. Это позволяет нам легко различать различные версии моделей при работе с несколькими наборами данных или при проведении экспериментов с отравленными данными.\n",
    "\n",
    "Сохраняя модель и векторизатор, мы можем быстро протестировать их на новых данных, включая отравленные наборы данных, без повторного обучения. Это будет необходимо при тестировании воздействия атак отравления данных в следующих разделах."
   ]
  },
  {
   "cell_type": "markdown",
   "metadata": {},
   "source": [
    "### Заключение\n",
    "\n",
    "На данном этапе мы успешно построили рабочий классификатор спама, используя различные методы предварительной обработки, векторизации и моделирования. В следующих разделах мы сосредоточимся на отравлении данных, когда в набор данных будут внедрены вредоносные данные, чтобы проверить, насколько хорошо модель справляется с атаками. Мы также исследуем различные стратегии защиты от этих атак, чтобы улучшить устойчивость модели.\n",
    "\n"
   ]
  }
 ],
 "metadata": {
  "kernelspec": {
   "display_name": "Python 3",
   "language": "python",
   "name": "python3"
  },
  "language_info": {
   "codemirror_mode": {
    "name": "ipython",
    "version": 3
   },
   "file_extension": ".py",
   "mimetype": "text/x-python",
   "name": "python",
   "nbconvert_exporter": "python",
   "pygments_lexer": "ipython3",
   "version": "3.8.20"
  }
 },
 "nbformat": 4,
 "nbformat_minor": 2
}
